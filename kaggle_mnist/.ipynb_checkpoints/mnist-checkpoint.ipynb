{
 "cells": [
  {
   "cell_type": "code",
   "execution_count": null,
   "metadata": {
    "collapsed": false
   },
   "outputs": [
    {
     "name": "stderr",
     "output_type": "stream",
     "text": [
      "Using TensorFlow backend.\n"
     ]
    }
   ],
   "source": [
    "import pandas as pd\n",
    "import numpy as np\n",
    "\n",
    "# vanilla ML methods ------------------------------------------------\n",
    "# linear algorithms\n",
    "from sklearn.linear_model import LogisticRegression\n",
    "from sklearn.svm import LinearSVC, SVC\n",
    "# metric algorithms\n",
    "from sklearn.neighbors import KNeighborsClassifier\n",
    "# ensemble algorithms\n",
    "from sklearn.ensemble import RandomForestClassifier, GradientBoostingClassifier\n",
    "\n",
    "# deep learning -----------------------------------------------------\n",
    "# to build own CNN from scratch\n",
    "from keras.layers import Conv2D, MaxPool2D, Dropout, Dense, BatchNormalization, Activation, Flatten\n",
    "from keras.models import Sequential\n",
    "from keras.preprocessing.image import ImageDataGenerator\n",
    "from keras.utils import to_categorical\n",
    "\n",
    "# visualize results / dimensionality reduction / manifold learning (TODO)\n",
    "from sklearn.manifold import TSNE\n",
    "from sklearn.decomposition import PCA\n",
    "import matplotlib.pyplot as plt\n",
    "%matplotlib inline\n",
    "\n",
    "# utilities / preprocessing\n",
    "from sklearn.preprocessing import MinMaxScaler\n",
    "from sklearn.metrics import accuracy_score\n",
    "from sklearn.model_selection import GridSearchCV, train_test_split, StratifiedKFold\n",
    "from sklearn.pipeline import Pipeline\n",
    "\n",
    "import numpy as np\n",
    "import pandas as pd\n",
    "from keras import backend as K\n",
    "from keras.applications.resnet50 import conv_block, identity_block\n",
    "from keras.layers import (Activation, BatchNormalization, Convolution2D, Dense,\n",
    "                          Flatten, Input, MaxPooling2D, ZeroPadding2D)\n",
    "from keras.models import Model\n",
    "from keras.optimizers import RMSprop\n",
    "from keras.utils.np_utils import to_categorical"
   ]
  },
  {
   "cell_type": "code",
   "execution_count": null,
   "metadata": {
    "collapsed": false
   },
   "outputs": [],
   "source": [
    "# define some variables\n",
    "SHAPE = (28, 28, 1)\n",
    "bn_axis = 3 if K.image_dim_ordering() == 'tf' else 1\n",
    "\n",
    "X_train = pd.read_csv(r'trainX.csv', header=None)\n",
    "X_train = X_train.values.reshape(-1, *SHAPE).astype(float)/255.0\n",
    "\n",
    "y_train = pd.read_csv(r'trainY.csv', header=None)\n",
    "test = pd.read_csv(r'testX.csv', header=None)\n",
    "\n",
    "#normalize the data\n",
    "max_feature = np.max(X_train,axis=0)\n",
    "X_train = X_train*1./max_feature\n",
    "test = test*1./max_feature\n",
    "\n",
    "X_train = X_train.values.reshape(-1, *SHAPE).astype(float)/255.0\n",
    "test = test.values.reshape(-1, *SHAPE).astype(float)/255.0\n",
    "\n",
    "#picture_size = (28, 28)\n",
    "print(X_train.shape, y_train.shape, test.shape)\n",
    "#assert (X_train.shape[1]) == picture_size[0]*picture_size[1] # to test whether we have correct picture sizes (784px)\n",
    "#assert (test.shape[1]) == picture_size[0]*picture_size[1] # to test whether we have correct picture sizes (784px)"
   ]
  },
  {
   "cell_type": "code",
   "execution_count": null,
   "metadata": {
    "collapsed": false
   },
   "outputs": [],
   "source": [
    "y_train['digit'] = np.nan\n",
    "for i in range(len(y_train)):\n",
    "    for j in range(10):\n",
    "        if y_train.iat[i, j] == 1:\n",
    "            y_train.iat[i, y_train.columns.get_loc('digit')] = j\n",
    "y_train = y_train['digit'].astype(int)"
   ]
  },
  {
   "cell_type": "code",
   "execution_count": null,
   "metadata": {
    "collapsed": true
   },
   "outputs": [],
   "source": [
    "X, X_holdout, y, y_holdout = train_test_split(\n",
    "                                            X_train,\n",
    "                                            y_train,\n",
    "                                            test_size=0.15,\n",
    "                                            random_state=42)"
   ]
  },
  {
   "cell_type": "code",
   "execution_count": null,
   "metadata": {
    "collapsed": true
   },
   "outputs": [],
   "source": [
    "def build_model(seed=None):\n",
    "    # We can't use ResNet50 directly, as it might cause a negative dimension\n",
    "    # error.\n",
    "    if seed:\n",
    "        np.random.seed(seed)\n",
    "\n",
    "    input_layer = Input(shape=SHAPE)\n",
    "\n",
    "    x = ZeroPadding2D((3, 3))(input_layer)\n",
    "    x = Convolution2D(64, 7, 7, subsample=(2, 2), name='conv1')(x)\n",
    "    x = BatchNormalization(axis=bn_axis, name='bn_conv1')(x)\n",
    "    x = Activation('relu')(x)\n",
    "    x = MaxPooling2D((3, 3), strides=(2, 2))(x)\n",
    "\n",
    "    x = conv_block(x, 3, [64, 64, 256], stage=2, block='a', strides=(1, 1))\n",
    "    x = identity_block(x, 3, [64, 64, 256], stage=2, block='b')\n",
    "    x = identity_block(x, 3, [64, 64, 256], stage=2, block='c')\n",
    "\n",
    "    x = conv_block(x, 3, [128, 128, 512], stage=3, block='a')\n",
    "    x = identity_block(x, 3, [128, 128, 512], stage=3, block='b')\n",
    "    x = identity_block(x, 3, [128, 128, 512], stage=3, block='c')\n",
    "    x = identity_block(x, 3, [128, 128, 512], stage=3, block='d')\n",
    "\n",
    "    x = conv_block(x, 3, [256, 256, 1024], stage=4, block='a')\n",
    "    x = identity_block(x, 3, [256, 256, 1024], stage=4, block='b')\n",
    "    x = identity_block(x, 3, [256, 256, 1024], stage=4, block='c')\n",
    "    x = identity_block(x, 3, [256, 256, 1024], stage=4, block='d')\n",
    "    x = identity_block(x, 3, [256, 256, 1024], stage=4, block='e')\n",
    "    x = identity_block(x, 3, [256, 256, 1024], stage=4, block='f')\n",
    "\n",
    "    \"\"\"\n",
    "    x = conv_block(x, 3, [512, 512, 2048], stage=5, block='a')\n",
    "    x = identity_block(x, 3, [512, 512, 2048], stage=5, block='b')\n",
    "    x = identity_block(x, 3, [512, 512, 2048], stage=5, block='c')\n",
    "    print(x)\n",
    "    x = AveragePooling2D((7, 7), name='avg_pool')(x)\n",
    "    \"\"\"\n",
    "\n",
    "    x = Flatten()(x)\n",
    "    x = Dense(10, activation='softmax', name='fc10')(x)\n",
    "\n",
    "    model = Model(input_layer, x)\n",
    "\n",
    "    return model\n"
   ]
  },
  {
   "cell_type": "code",
   "execution_count": null,
   "metadata": {
    "collapsed": true
   },
   "outputs": [],
   "source": [
    "# fit\n",
    "model = build_model()\n",
    "# model = Parallelizer().transform(model)\n",
    "model.compile(RMSprop(lr=1e-4), 'categorical_crossentropy', ['accuracy'])\n",
    "# batch_size = real_batch_size * n_GPUs\n",
    "# model.fit(train_x, train_y, batch_size=64*2, nb_epoch=20)\n",
    "model.fit(X, y, batch_size=64, nb_epoch=20)\n",
    "# model.save('digit_recognizer_model.h5')"
   ]
  },
  {
   "cell_type": "code",
   "execution_count": null,
   "metadata": {
    "collapsed": true
   },
   "outputs": [],
   "source": [
    "test_predictions = model.predict(test).argmax(1)"
   ]
  },
  {
   "cell_type": "code",
   "execution_count": null,
   "metadata": {
    "collapsed": true
   },
   "outputs": [],
   "source": [
    "test_predictions"
   ]
  },
  {
   "cell_type": "code",
   "execution_count": null,
   "metadata": {
    "collapsed": true
   },
   "outputs": [],
   "source": [
    "d = {'id': test.index.values, 'digit': test_predictions}\n",
    "df_output = pd.DataFrame(data=d)\n",
    "\n",
    "df_output.to_csv(\n",
    "     r'submissions.csv',\n",
    "     index=False\n",
    ")"
   ]
  },
  {
   "cell_type": "code",
   "execution_count": null,
   "metadata": {
    "collapsed": true
   },
   "outputs": [],
   "source": []
  }
 ],
 "metadata": {
  "kernelspec": {
   "display_name": "Python 3",
   "language": "python",
   "name": "python3"
  },
  "language_info": {
   "codemirror_mode": {
    "name": "ipython",
    "version": 3
   },
   "file_extension": ".py",
   "mimetype": "text/x-python",
   "name": "python",
   "nbconvert_exporter": "python",
   "pygments_lexer": "ipython3",
   "version": "3.6.0"
  }
 },
 "nbformat": 4,
 "nbformat_minor": 2
}
